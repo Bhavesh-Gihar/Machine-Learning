{
 "cells": [
  {
   "cell_type": "code",
   "execution_count": 14,
   "id": "27a308d2",
   "metadata": {
    "scrolled": true
   },
   "outputs": [
    {
     "name": "stdout",
     "output_type": "stream",
     "text": [
      "Predicted values  [ 40594.69 123305.18  65031.88]\n",
      "Real values       [ 37731. 122391.  57081.]\n",
      "Trained W         9398.92\n",
      "Trained b         26496.31\n"
     ]
    },
    {
     "data": {
      "image/png": "[encoded data removed]",
      "text/plain": [
       "<Figure size 432x288 with 1 Axes>"
      ]
     },
     "metadata": {
      "needs_background": "light"
     },
     "output_type": "display_data"
    }
   ],
   "source": [
    "import os\n",
    "import numpy as np\n",
    "import pandas as pd\n",
    "from sklearn.model_selection import train_test_split\n",
    "import matplotlib.pyplot as plt\n",
    "\n",
    "class LinearRegression() :\n",
    "      \n",
    "    def __init__( self, learning_rate, iterations ) :\n",
    "        self.learning_rate = learning_rate\n",
    "        self.iterations = iterations\n",
    "       \n",
    "    def fit( self, X, Y ) :          \n",
    "        self.m, self.n = X.shape\n",
    "        self.W = np.zeros( self.n )\n",
    "        self.b = 0\n",
    "        self.X = X\n",
    "        self.Y = Y\n",
    "            \n",
    "        for i in range( self.iterations ) :\n",
    "            self.update_weights()\n",
    "              \n",
    "        return self\n",
    "      \n",
    "    def update_weights( self ) :\n",
    "        Y_pred = self.predict( self.X )\n",
    "        dW = - ( 2 * ( self.X.T ).dot( self.Y - Y_pred )  ) / self.m\n",
    "        db = - 2 * np.sum( self.Y - Y_pred ) / self.m \n",
    "          \n",
    "        self.W = self.W - self.learning_rate * dW\n",
    "        self.b = self.b - self.learning_rate * db\n",
    "          \n",
    "        return self\n",
    "  \n",
    "    def predict( self, X ) :\n",
    "        return X.dot( self.W ) + self.b\n",
    "\n",
    "def main() :\n",
    "    path = os.path.join('c:' + os.sep, 'Users', 'bhave_bwvklsr', 'Downloads', 'Salary_Data.csv')\n",
    "    df = pd.read_csv(path)\n",
    "    \n",
    "#     X1 = np.random.rand(100) * 5\n",
    "#     X2 = np.random.rand(100) * 4\n",
    "#     X3 = np.random.rand(100) * 3\n",
    "#     X4 = np.random.rand(100) * 2\n",
    "#     Y = 2*X1 + 3*X2 + 1.5*X3 + 0.5*X4 + np.random.normal(0, 1, 100)\n",
    "\n",
    "#     df = pd.DataFrame({'X1': X1, 'X2': X2, 'X3': X3, 'X4': X4, 'Y': Y})\n",
    "  \n",
    "    X = df.iloc[:,:-1].values\n",
    "    Y = df.iloc[:,1].values\n",
    "    X_train, X_test, Y_train, Y_test = train_test_split( X, Y, test_size = 1/3, random_state = 0 )\n",
    "  \n",
    "    model = LinearRegression( iterations = 1000, learning_rate = 0.01 )\n",
    "    model.fit( X_train, Y_train )\n",
    "    Y_pred = model.predict( X_test )\n",
    "    \n",
    "    print( \"Predicted values \", np.round( Y_pred[:3], 2 ) ) \n",
    "    print( \"Real values      \", Y_test[:3] )\n",
    "    print( \"Trained W        \", round( model.W[0], 2 ) )      \n",
    "    print( \"Trained b        \", round( model.b, 2 ) )\n",
    "      \n",
    "    plt.scatter( X_test, Y_test, color = 'blue' )\n",
    "    plt.plot( X_test, Y_pred, color = 'orange' )\n",
    "    plt.title( 'Salary vs Experience' )\n",
    "    plt.xlabel( 'Years of Experience' )\n",
    "    plt.ylabel( 'Salary' )\n",
    "    plt.show()\n",
    "     \n",
    "if __name__ == \"__main__\" : \n",
    "      \n",
    "    main()"
   ]
  }
 ],
 "metadata": {
  "kernelspec": {
   "display_name": "Python 3 (ipykernel)",
   "language": "python",
   "name": "python3"
  },
  "language_info": {
   "codemirror_mode": {
    "name": "ipython",
    "version": 3
   },
   "file_extension": ".py",
   "mimetype": "text/x-python",
   "name": "python",
   "nbconvert_exporter": "python",
   "pygments_lexer": "ipython3",
   "version": "3.9.12"
  }
 },
 "nbformat": 4,
 "nbformat_minor": 5
}
