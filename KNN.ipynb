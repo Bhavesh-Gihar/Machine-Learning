{
 "cells": [
  {
   "cell_type": "code",
   "execution_count": 3,
   "id": "98654650",
   "metadata": {},
   "outputs": [
    {
     "name": "stdout",
     "output_type": "stream",
     "text": [
      "Accuracy on test set by our model:  100.0\n",
      "Accuracy on test set by sklearn model:  100.0\n"
     ]
    },
    {
     "name": "stderr",
     "output_type": "stream",
     "text": [
      "C:\\Users\\bhave_bwvklsr\\anaconda3\\lib\\site-packages\\sklearn\\neighbors\\_classification.py:228: DataConversionWarning: A column-vector y was passed when a 1d array was expected. Please change the shape of y to (n_samples,), for example using ravel().\n",
      "  return self._fit(X, y)\n"
     ]
    }
   ],
   "source": [
    "import pandas as pd\n",
    "import numpy as np\n",
    "from sklearn.model_selection import train_test_split\n",
    "from scipy.stats import mode\n",
    "from sklearn.neighbors import KNeighborsClassifier\n",
    "\n",
    "class K_Nearest_Neighbors_Classifier():\n",
    "    def __init__(self, K):\n",
    "        self.K = K\n",
    "\n",
    "    def fit(self, X_train, Y_train):\n",
    "        self.X_train = X_train\n",
    "        self.Y_train = Y_train\n",
    "        self.m, self.n = X_train.shape\n",
    "\n",
    "    def predict(self, X_test):\n",
    "        self.X_test = X_test\n",
    "        self.m_test, self.n = X_test.shape\n",
    "        Y_predict = np.zeros(self.m_test)\n",
    "\n",
    "        for i in range(self.m_test):\n",
    "            x = self.X_test[i]\n",
    "            neighbors = np.zeros(self.K)\n",
    "            neighbors = self.find_neighbors(x)\n",
    "            Y_predict[i] = mode(neighbors)[0][0]\n",
    "\n",
    "        return Y_predict\n",
    "\n",
    "    def find_neighbors(self, x):\n",
    "        euclidean_distances = np.zeros(self.m)\n",
    "\n",
    "        for i in range(self.m):\n",
    "            d = self.euclidean(x, self.X_train[i])\n",
    "            euclidean_distances[i] = d\n",
    "\n",
    "        inds = euclidean_distances.argsort()\n",
    "        Y_train_sorted = self.Y_train[inds]\n",
    "\n",
    "        return Y_train_sorted[:self.K]\n",
    "\n",
    "    def euclidean(self, x, x_train):\n",
    "        return np.sqrt(np.sum(np.square(x - x_train)))\n",
    "\n",
    "def main():\n",
    "#     df = pd.read_csv(\"diabetes.csv\")\n",
    "\n",
    "    X1 = np.random.rand(100) * 5\n",
    "    X2 = np.random.rand(100) * 4\n",
    "    X3 = np.random.rand(100) * 3\n",
    "    X4 = np.random.rand(100) * 2\n",
    "    Y = np.random.randint(2, 100)\n",
    "\n",
    "    df = pd.DataFrame({'X1': X1, 'X2': X2, 'X3': X3, 'X4': X4, 'Y': Y})\n",
    "    X = df.iloc[:, :-1].values\n",
    "    Y = df.iloc[:, -1:].values\n",
    "\n",
    "    X_train, X_test, Y_train, Y_test = train_test_split(X, Y, test_size=1/3, random_state=0)\n",
    "\n",
    "    model = K_Nearest_Neighbors_Classifier(K=3)\n",
    "    model.fit(X_train, Y_train)\n",
    "\n",
    "    model1 = KNeighborsClassifier(n_neighbors=3)\n",
    "    model1.fit(X_train, Y_train)\n",
    "\n",
    "    Y_pred = model.predict(X_test)\n",
    "    Y_pred1 = model1.predict(X_test)\n",
    "\n",
    "    correctly_classified = 0\n",
    "    correctly_classified1 = 0\n",
    "    count = 0\n",
    "\n",
    "    for count in range(np.size(Y_pred)):\n",
    "        if Y_test[count] == Y_pred[count]:\n",
    "            correctly_classified = correctly_classified + 1\n",
    "        if Y_test[count] == Y_pred1[count]:\n",
    "            correctly_classified1 = correctly_classified1 + 1\n",
    "        count = count + 1\n",
    "\n",
    "    print(\"Accuracy on test set by our model: \", (correctly_classified / count) * 100)\n",
    "    print(\"Accuracy on test set by sklearn model: \", (correctly_classified1 / count) * 100)\n",
    "\n",
    "if __name__ == \"__main__\":\n",
    "    main()\n"
   ]
  }
 ],
 "metadata": {
  "kernelspec": {
   "display_name": "Python 3 (ipykernel)",
   "language": "python",
   "name": "python3"
  },
  "language_info": {
   "codemirror_mode": {
    "name": "ipython",
    "version": 3
   },
   "file_extension": ".py",
   "mimetype": "text/x-python",
   "name": "python",
   "nbconvert_exporter": "python",
   "pygments_lexer": "ipython3",
   "version": "3.9.12"
  }
 },
 "nbformat": 4,
 "nbformat_minor": 5
}
