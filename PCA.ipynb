{
 "cells": [
  {
   "cell_type": "code",
   "execution_count": 2,
   "id": "16bbfe6b",
   "metadata": {},
   "outputs": [
    {
     "name": "stdout",
     "output_type": "stream",
     "text": [
      "Mu  (2,)\n",
      "Sigma  (2, 2)\n",
      "Data shape  (1000, 2)\n",
      "Mean  (2,)\n",
      "Data after subtracting mean  (1000, 2) \n",
      "\n",
      "Covariance matrix  (2, 2) \n",
      "\n",
      "Eigen vectors  [[-0.70919569  0.70501168]\n",
      " [-0.70501168 -0.70919569]]\n",
      "Eigen values  [1.83997041 5.22002959] \n",
      "\n",
      "Sorted Eigen vectors  [[ 0.70501168 -0.70919569]\n",
      " [-0.70919569 -0.70501168]]\n",
      "Sorted Eigen values  [5.22002959 1.83997041] \n",
      "\n",
      "[0.73938096 0.26061904]\n",
      "[0.73938096 1.        ]\n",
      "Transformed data  (1000, 2)\n"
     ]
    }
   ],
   "source": [
    "import numpy as np\n",
    "import matplotlib.pyplot as plt\n",
    "import numpy.random as rnd\n",
    "# Create random 2d data\n",
    "mu = np.array([10, 13])\n",
    "sigma = np.array([[3.5, -1.8], [-1.8, 3.5]])\n",
    "\n",
    "print(\"Mu \", mu.shape)\n",
    "print(\"Sigma \", sigma.shape)\n",
    "\n",
    "# Create 1000 samples using mean and sigmaL\n",
    "org_data = rnd.multivariate_normal(mu, sigma, size=(1000))\n",
    "print(\"Data shape \", org_data.shape)\n",
    "\n",
    "\n",
    "# Subtract mean from data\n",
    "mean = np.mean(org_data, axis=0)\n",
    "print(\"Mean \", mean.shape)\n",
    "mean_data = org_data - mean\n",
    "print(\"Data after subtracting mean \", org_data.shape, \"\\n\")\n",
    "\n",
    "# Compute covariance matrix\n",
    "cov = np.cov(mean_data.T)\n",
    "cov = np.round(cov, 2)\n",
    "print(\"Covariance matrix \", cov.shape, \"\\n\")\n",
    "\n",
    "# Perform eigen decomposition of covariance matrix\n",
    "eig_val, eig_vec = np.linalg.eig(cov)\n",
    "print(\"Eigen vectors \", eig_vec)\n",
    "print(\"Eigen values \", eig_val, \"\\n\")\n",
    "\n",
    "\n",
    "# Sort eigen values and corresponding eigen vectors in descending order\n",
    "indices = np.arange(0, len(eig_val), 1)\n",
    "indices = ([x for _, x in sorted(zip(eig_val, indices))])[::-1]\n",
    "eig_val = eig_val[indices]\n",
    "eig_vec = eig_vec[:, indices]\n",
    "print(\"Sorted Eigen vectors \", eig_vec)\n",
    "print(\"Sorted Eigen values \", eig_val, \"\\n\")\n",
    "\n",
    "# Get explained variance\n",
    "sum_eig_val = np.sum(eig_val)\n",
    "explained_variance = eig_val / sum_eig_val\n",
    "print(explained_variance)\n",
    "cumulative_variance = np.cumsum(explained_variance)\n",
    "print(cumulative_variance)\n",
    "\n",
    "# Take transpose of eigen vectors with data\n",
    "pca_data = np.dot(mean_data, eig_vec)\n",
    "print(\"Transformed data \", pca_data.shape)"
   ]
  }
 ],
 "metadata": {
  "kernelspec": {
   "display_name": "Python 3 (ipykernel)",
   "language": "python",
   "name": "python3"
  },
  "language_info": {
   "codemirror_mode": {
    "name": "ipython",
    "version": 3
   },
   "file_extension": ".py",
   "mimetype": "text/x-python",
   "name": "python",
   "nbconvert_exporter": "python",
   "pygments_lexer": "ipython3",
   "version": "3.9.12"
  }
 },
 "nbformat": 4,
 "nbformat_minor": 5
}
