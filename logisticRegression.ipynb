{
 "cells": [
  {
   "cell_type": "code",
   "execution_count": 9,
   "id": "84629fdd",
   "metadata": {},
   "outputs": [
    {
     "name": "stdout",
     "output_type": "stream",
     "text": [
      "Accuracy on test set by our model:  52.94117647058824\n",
      "Accuracy on test set by sklearn model:  50.0\n"
     ]
    }
   ],
   "source": [
    "import numpy as np\n",
    "import pandas as pd\n",
    "from sklearn.model_selection import train_test_split\n",
    "import warnings\n",
    "warnings.filterwarnings(\"ignore\")\n",
    "\n",
    "from sklearn.linear_model import LogisticRegression\n",
    "\n",
    "class LogitRegression():\n",
    "    def __init__(self, learning_rate, iterations):\n",
    "        self.learning_rate = learning_rate\n",
    "        self.iterations = iterations\n",
    "\n",
    "    def fit(self, X, Y):\n",
    "        self.m, self.n = X.shape\n",
    "        self.W = np.zeros(self.n)\n",
    "        self.b = 0\n",
    "        self.X = X\n",
    "        self.Y = Y\n",
    "\n",
    "        for i in range(self.iterations):\n",
    "            self.update_weights()\n",
    "        return self\n",
    "\n",
    "    def update_weights(self):\n",
    "        A = 1 / (1 + np.exp(- (self.X.dot(self.W) + self.b)))\n",
    "        tmp = (A - self.Y.T)\n",
    "        tmp = np.reshape(tmp, self.m)\n",
    "        dW = np.dot(self.X.T, tmp) / self.m\n",
    "        db = np.sum(tmp) / self.m\n",
    "        self.W = self.W - self.learning_rate * dW\n",
    "        self.b = self.b - self.learning_rate * db\n",
    "        return self\n",
    "\n",
    "    def predict(self, X):\n",
    "        Z = 1 / (1 + np.exp(- (X.dot(self.W) + self.b)))\n",
    "        Y = np.where(Z > 0.5, 1, 0)\n",
    "        return Y\n",
    "\n",
    "def main():\n",
    "#     df = pd.read_csv(\"diabetes.csv\")\n",
    "    X1 = np.random.rand(100) * 5\n",
    "    X2 = np.random.rand(100) * 4\n",
    "    X3 = np.random.rand(100) * 3\n",
    "    X4 = np.random.rand(100) * 2\n",
    "    Y = np.random.randint(2, size=100)\n",
    "\n",
    "    df = pd.DataFrame({'X1': X1, 'X2': X2, 'X3': X3, 'X4': X4, 'Y': Y})\n",
    "    \n",
    "    X = df.iloc[:, :-1].values\n",
    "    Y = df.iloc[:, -1:].values\n",
    "\n",
    "    X_train, X_test, Y_train, Y_test = train_test_split(X, Y, test_size=1/3, random_state=0)\n",
    "\n",
    "    model = LogitRegression(learning_rate=0.01, iterations=1000)\n",
    "    model.fit(X_train, Y_train)\n",
    "    model1 = LogisticRegression()\n",
    "    model1.fit(X_train, Y_train)\n",
    "\n",
    "    Y_pred = model.predict(X_test)\n",
    "    Y_pred1 = model1.predict(X_test)\n",
    "\n",
    "    correctly_classified = 0\n",
    "    correctly_classified1 = 0\n",
    "    count = 0\n",
    "\n",
    "    for count in range(np.size(Y_pred)):\n",
    "        if Y_test[count] == Y_pred[count]:\n",
    "            correctly_classified = correctly_classified + 1\n",
    "        if Y_test[count] == Y_pred1[count]:\n",
    "            correctly_classified1 = correctly_classified1 + 1\n",
    "        count = count + 1\n",
    "\n",
    "    print(\"Accuracy on test set by our model: \", (correctly_classified / count) * 100)\n",
    "    print(\"Accuracy on test set by sklearn model: \", (correctly_classified1 / count) * 100)\n",
    "\n",
    "if __name__ == \"__main__\":\n",
    "    main()\n"
   ]
  },
  {
   "cell_type": "code",
   "execution_count": null,
   "id": "9148f9be",
   "metadata": {},
   "outputs": [],
   "source": []
  }
 ],
 "metadata": {
  "kernelspec": {
   "display_name": "Python 3 (ipykernel)",
   "language": "python",
   "name": "python3"
  },
  "language_info": {
   "codemirror_mode": {
    "name": "ipython",
    "version": 3
   },
   "file_extension": ".py",
   "mimetype": "text/x-python",
   "name": "python",
   "nbconvert_exporter": "python",
   "pygments_lexer": "ipython3",
   "version": "3.9.12"
  }
 },
 "nbformat": 4,
 "nbformat_minor": 5
}
