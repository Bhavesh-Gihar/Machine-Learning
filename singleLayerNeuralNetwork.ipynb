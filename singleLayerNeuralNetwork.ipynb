{
 "cells": [
  {
   "cell_type": "code",
   "execution_count": 6,
   "id": "d70c1437",
   "metadata": {},
   "outputs": [],
   "source": [
    "import numpy as np"
   ]
  },
  {
   "cell_type": "code",
   "execution_count": 7,
   "id": "78f23be1",
   "metadata": {},
   "outputs": [],
   "source": [
    "class SingleLayerNeuralNetwork(object):\n",
    "    def __init__(self,iterations=1,activation_function=None,weights_interval=[0,1],biais=0.5,alpha=0.1):\n",
    "        self.iterations = iterations\n",
    "        self.activation_function = activation_function\n",
    "        self.low = weights_interval[0]\n",
    "        self.high = weights_interval[1]\n",
    "        self.alpha = alpha\n",
    "        self.biais = biais\n",
    "        \n",
    "    def _eval_(self,X,w):\n",
    "        return np.sum(np.multiply(X,w)) + self.biais\n",
    "    \n",
    "    def _adjust_(self,X,y,output):    \n",
    "        self.weights += self.alpha*(y-output)*X\n",
    "        self.biais += self.alpha*(y-output)\n",
    "            \n",
    "    def _feed_forward_(self,X,w):\n",
    "        return self.activation_function(self._eval_(X,w))\n",
    "    \n",
    "    def _SLNN_(self,X,y):\n",
    "        self.output = np.zeros(shape=(X.shape[0]))\n",
    "        self.weights = np.random.randint(low=self.low*10,high=self.high*10,size=(X.shape[1]))/10\n",
    "\n",
    "        while self.iterations > 0:\n",
    "            for i in range(X.shape[0]):\n",
    "                self.output[i] = self._feed_forward_(X.iloc[i],self.weights)\n",
    "                error = y[i] - self.output[i]\n",
    "                \n",
    "                if error != 0:\n",
    "                    self._back_propagation_(X.iloc[i],y.iloc[i],self.output[i])\n",
    "            self.iterations -= 1\n",
    "            \n",
    "        return self.output\n",
    "    \n",
    "    def _back_propagation_(self,X,y,output):  \n",
    "        self._adjust_(X,y,output)    \n",
    "        \n",
    "    def weights(self):\n",
    "        return self.weights\n",
    "    \n",
    "    def fit(self,X,y):\n",
    "        return self._SLNN_(X,y)\n",
    "            \n",
    "    def predict(self,X):\n",
    "        self.predictions = np.zeros(shape=(X.shape[0]))\n",
    "        for i in range(X.shape[0]):\n",
    "            self.predictions[i] = self._feed_forward_(X.iloc[i],self.weights)\n",
    "            \n",
    "        return self.predictions"
   ]
  }
 ],
 "metadata": {
  "kernelspec": {
   "display_name": "Python 3 (ipykernel)",
   "language": "python",
   "name": "python3"
  },
  "language_info": {
   "codemirror_mode": {
    "name": "ipython",
    "version": 3
   },
   "file_extension": ".py",
   "mimetype": "text/x-python",
   "name": "python",
   "nbconvert_exporter": "python",
   "pygments_lexer": "ipython3",
   "version": "3.9.12"
  }
 },
 "nbformat": 4,
 "nbformat_minor": 5
}
